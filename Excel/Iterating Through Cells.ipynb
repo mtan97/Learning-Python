{
 "cells": [
  {
   "cell_type": "code",
   "execution_count": 29,
   "metadata": {},
   "outputs": [
    {
     "data": {
      "text/plain": [
       "True"
      ]
     },
     "execution_count": 29,
     "metadata": {},
     "output_type": "execute_result"
    }
   ],
   "source": [
    "import sys\n",
    "import os \n",
    "import openpyxl\n",
    "from openpyxl import Workbook\n",
    "filename = 'C:\\\\Users\\\\tan.m.10\\\\OneDrive - Procter and Gamble\\\\Python\\\\Excel\\\\Book1.xlsx'\n",
    "wb = openpyxl.load_workbook(filename)\n",
    "\n",
    "ws = wb.active\n",
    "count = 0\n",
    "\n",
    "for a in range (1, 6):\n",
    "    for b in range (1, 6):\n",
    "        mycell = ws.cell(row = a, column = b)\n",
    "        mycell.value = count\n",
    "        count += 1\n",
    "        \n",
    "        \n",
    "openpyxl.writer.excel.save_dump(wb, filename)"
   ]
  },
  {
   "cell_type": "code",
   "execution_count": null,
   "metadata": {},
   "outputs": [],
   "source": []
  }
 ],
 "metadata": {
  "kernelspec": {
   "display_name": "Python 3",
   "language": "python",
   "name": "python3"
  },
  "language_info": {
   "codemirror_mode": {
    "name": "ipython",
    "version": 3
   },
   "file_extension": ".py",
   "mimetype": "text/x-python",
   "name": "python",
   "nbconvert_exporter": "python",
   "pygments_lexer": "ipython3",
   "version": "3.6.5"
  }
 },
 "nbformat": 4,
 "nbformat_minor": 2
}
