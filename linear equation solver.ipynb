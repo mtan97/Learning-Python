{
 "cells": [
  {
   "cell_type": "code",
   "execution_count": 143,
   "metadata": {},
   "outputs": [],
   "source": [
    "import pandas as pd\n",
    "import numpy as np\n",
    "from scipy.linalg import lstsq"
   ]
  },
  {
   "cell_type": "code",
   "execution_count": 495,
   "metadata": {},
   "outputs": [],
   "source": [
    "co2out = 0.29;\n",
    "h2out = 0.33;\n",
    "ch4out = 1.33;\n",
    "co2in = 0;\n",
    "o2in = 0.8928571429;\n",
    "ch4in = 1.785714286;\n",
    "\n",
    "\n",
    "\n",
    "h2in = 0;\n",
    "coin = 0;\n",
    "h2oin = 0;\n",
    "o2out = 0;\n"
   ]
  },
  {
   "cell_type": "code",
   "execution_count": 496,
   "metadata": {},
   "outputs": [],
   "source": [
    "#flipped array\n",
    "A = np.array([[-2, -1, 0, -1, 0, 0], [2, 0, 1, 2, -1, 0], [4, 0, -1, 2, 0, 0], [-1, -2, 0, 0, 0, 0], [0, 2, 1, 0, 0, -1], [0, 1, -1, -1, 0, 0]])\n",
    "B = np.array([(ch4out - ch4in), 0, h2out, -o2in, 0, (co2out - co2in)])"
   ]
  },
  {
   "cell_type": "code",
   "execution_count": 497,
   "metadata": {},
   "outputs": [
    {
     "name": "stdout",
     "output_type": "stream",
     "text": [
      "solution is [ 0.09812698  0.36679365  0.06184127 -0.01561905  0.22685714  0.79542857].\n",
      "matrix A rank is 5.\n",
      "residuals are [].\n",
      "singular values of A are [5.84242179e+00 3.24666903e+00 2.34768453e+00 7.60339690e-01\n",
      " 4.85292476e-01 6.62819159e-16].\n",
      "e1 is 0.098127.\n",
      "e2 is 0.366794.\n",
      "e3 is 0.061841.\n",
      "e4 is -0.015619.\n",
      "CO out is 0.226857.\n",
      "H2O out is 0.795429.\n"
     ]
    }
   ],
   "source": [
    "x, residuals, rank, s = lstsq(A, B) #lstsq func always return four-element tuple\n",
    "\n",
    "print('solution is %s.' % str(x))\n",
    "print('matrix A rank is %d.' % rank)\n",
    "print('residuals are %s.' % str(residuals))\n",
    "print('singular values of A are %s.' % str(s))\n",
    "\n",
    "print('e1 is %f.' % x[0])\n",
    "print('e2 is %f.' % x[1])\n",
    "print('e3 is %f.' % x[2])\n",
    "print('e4 is %f.' % x[3])\n",
    "print('CO out is %f.' % x[4])\n",
    "print('H2O out is %f.' % x[5])"
   ]
  },
  {
   "cell_type": "code",
   "execution_count": 498,
   "metadata": {},
   "outputs": [],
   "source": [
    "#old array\n",
    "A = np.array([[-2, -1, 0, -1, 0, 0], [2, 0, -1, 2, -1, 0], [4, 0, 1, 2, 0, 0], [-1, -2, 0, 0, 0, 0], [0, 2, -1, 0, 0, -1], [0, 1, 1, -1, 0, 0]])\n",
    "B = np.array([(ch4out - ch4in), 0, h2out, -o2in, 0, (co2out - co2in)])"
   ]
  },
  {
   "cell_type": "code",
   "execution_count": 499,
   "metadata": {},
   "outputs": [
    {
     "name": "stdout",
     "output_type": "stream",
     "text": [
      "solution is [ 0.09812698  0.36679365 -0.06184127 -0.01561905  0.22685714  0.79542857].\n",
      "matrix A rank is 5.\n",
      "residuals are [].\n",
      "singular values of A are [5.84242179e+00 3.24666903e+00 2.34768453e+00 7.60339690e-01\n",
      " 4.85292476e-01 6.62819159e-16].\n",
      "e1 is 0.098127.\n",
      "e2 is 0.366794.\n",
      "e3 is -0.061841.\n",
      "e4 is -0.015619.\n",
      "CO out is 0.226857.\n",
      "H2O out is 0.795429.\n"
     ]
    }
   ],
   "source": [
    "x, residuals, rank, s = lstsq(A, B) #lstsq func always return four-element tuple\n",
    "\n",
    "print('solution is %s.' % str(x))\n",
    "print('matrix A rank is %d.' % rank)\n",
    "print('residuals are %s.' % str(residuals))\n",
    "print('singular values of A are %s.' % str(s))\n",
    "\n",
    "print('e1 is %f.' % x[0])\n",
    "print('e2 is %f.' % x[1])\n",
    "print('e3 is %f.' % x[2])\n",
    "print('e4 is %f.' % x[3])\n",
    "print('CO out is %f.' % x[4])\n",
    "print('H2O out is %f.' % x[5])"
   ]
  },
  {
   "cell_type": "code",
   "execution_count": 500,
   "metadata": {},
   "outputs": [],
   "source": [
    "#new array left\n",
    "A = np.array([[-2, -1, 0, 0, 0], [2, 0, 1, -1, 0], [4, 0, -1, 0, 0], [-1, -2, 0, 0, 0], [0, 2, -1, 0, -1]])\n",
    "B = np.array([(ch4out - ch4in), 0, h2out, -o2in, 0])"
   ]
  },
  {
   "cell_type": "code",
   "execution_count": 501,
   "metadata": {},
   "outputs": [
    {
     "name": "stdout",
     "output_type": "stream",
     "text": [
      "solution is [ 0.00619048  0.44333333 -0.30523809 -0.29285714  1.19190476].\n",
      "matrix A rank is 5.\n",
      "residuals are [].\n",
      "singular values of A are [5.13229051 3.01210522 1.70373022 0.81522869 0.13972033].\n",
      "e1 is 0.006190.\n",
      "e2 is 0.443333.\n",
      "e3 is -0.305238.\n",
      "CO out is -0.292857.\n",
      "H2O out is 1.191905.\n"
     ]
    }
   ],
   "source": [
    "x, residuals, rank, s = lstsq(A, B) #lstsq func always return four-element tuple\n",
    "\n",
    "print('solution is %s.' % str(x))\n",
    "print('matrix A rank is %d.' % rank)\n",
    "print('residuals are %s.' % str(residuals))\n",
    "print('singular values of A are %s.' % str(s))\n",
    "\n",
    "print('e1 is %f.' % x[0])\n",
    "print('e2 is %f.' % x[1])\n",
    "print('e3 is %f.' % x[2])\n",
    "print('CO out is %f.' % x[3])\n",
    "print('H2O out is %f.' % x[4])"
   ]
  },
  {
   "cell_type": "code",
   "execution_count": 502,
   "metadata": {},
   "outputs": [],
   "source": [
    "#old array right reaction\n",
    "A = np.array([[-2, -1, 0, 0, 0], [2, 0, -1, -1, 0], [4, 0, 1, 0, 0], [-1, -2, 0, 0, 0], [0, 2, -1, 0, -1]])\n",
    "B = np.array([(ch4out - ch4in), 0, h2out, -o2in, 0])"
   ]
  },
  {
   "cell_type": "code",
   "execution_count": 503,
   "metadata": {},
   "outputs": [
    {
     "name": "stdout",
     "output_type": "stream",
     "text": [
      "solution is [ 0.00619048  0.44333333  0.30523809 -0.29285714  0.58142857].\n",
      "matrix A rank is 5.\n",
      "residuals are [].\n",
      "singular values of A are [5.1174317  3.09202957 1.65760698 0.6900052  0.16576454].\n",
      "e1 is 0.006190.\n",
      "e2 is 0.443333.\n",
      "e3 is 0.305238.\n",
      "CO out is -0.292857.\n",
      "H2O out is 0.581429.\n"
     ]
    }
   ],
   "source": [
    "x, residuals, rank, s = lstsq(A, B) #lstsq func always return four-element tuple\n",
    "\n",
    "print('solution is %s.' % str(x))\n",
    "print('matrix A rank is %d.' % rank)\n",
    "print('residuals are %s.' % str(residuals))\n",
    "print('singular values of A are %s.' % str(s))\n",
    "\n",
    "print('e1 is %f.' % x[0])\n",
    "print('e2 is %f.' % x[1])\n",
    "print('e3 is %f.' % x[2])\n",
    "print('CO out is %f.' % x[3])\n",
    "print('H2O out is %f.' % x[4])"
   ]
  },
  {
   "cell_type": "code",
   "execution_count": 504,
   "metadata": {},
   "outputs": [],
   "source": [
    "#2 reactions\n",
    "A = np.array([[-2, -1, 0, 0], [2, 0, -1, 0], [-1, -2, 0, 0], [0, 2, 0, -1]])\n",
    "B = np.array([(ch4out - ch4in), 0,-o2in, 0])"
   ]
  },
  {
   "cell_type": "code",
   "execution_count": 505,
   "metadata": {},
   "outputs": [
    {
     "name": "stdout",
     "output_type": "stream",
     "text": [
      "solution is [0.00619048 0.44333333 0.01238095 0.88666667].\n",
      "matrix A rank is 4.\n",
      "residuals are [].\n",
      "singular values of A are [3.65028154 2.41421356 0.82185442 0.41421356].\n",
      "e1 is 0.006190.\n",
      "e2 is 0.443333.\n",
      "CO out is 0.012381.\n",
      "H2O out is 0.886667.\n"
     ]
    }
   ],
   "source": [
    "x, residuals, rank, s = lstsq(A, B) #lstsq func always return four-element tuple\n",
    "\n",
    "print('solution is %s.' % str(x))\n",
    "print('matrix A rank is %d.' % rank)\n",
    "print('residuals are %s.' % str(residuals))\n",
    "print('singular values of A are %s.' % str(s))\n",
    "\n",
    "print('e1 is %f.' % x[0])\n",
    "print('e2 is %f.' % x[1])\n",
    "print('CO out is %f.' % x[2])\n",
    "print('H2O out is %f.' % x[3])"
   ]
  },
  {
   "cell_type": "code",
   "execution_count": null,
   "metadata": {},
   "outputs": [],
   "source": []
  },
  {
   "cell_type": "code",
   "execution_count": null,
   "metadata": {},
   "outputs": [],
   "source": []
  },
  {
   "cell_type": "code",
   "execution_count": null,
   "metadata": {},
   "outputs": [],
   "source": []
  },
  {
   "cell_type": "code",
   "execution_count": null,
   "metadata": {},
   "outputs": [],
   "source": []
  }
 ],
 "metadata": {
  "kernelspec": {
   "display_name": "Python 3",
   "language": "python",
   "name": "python3"
  },
  "language_info": {
   "codemirror_mode": {
    "name": "ipython",
    "version": 3
   },
   "file_extension": ".py",
   "mimetype": "text/x-python",
   "name": "python",
   "nbconvert_exporter": "python",
   "pygments_lexer": "ipython3",
   "version": "3.7.3"
  }
 },
 "nbformat": 4,
 "nbformat_minor": 2
}
